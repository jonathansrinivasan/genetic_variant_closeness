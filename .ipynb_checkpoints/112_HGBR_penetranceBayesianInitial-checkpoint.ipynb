{
 "cells": [
  {
   "cell_type": "markdown",
   "metadata": {},
   "source": [
    "# HistGradientBoostingRegressor"
   ]
  },
  {
   "cell_type": "markdown",
   "metadata": {},
   "source": [
    "## Target Variable: lqt2_penetranceBayesian_initial"
   ]
  },
  {
   "cell_type": "code",
   "execution_count": 1,
   "metadata": {
    "scrolled": true
   },
   "outputs": [
    {
     "name": "stderr",
     "output_type": "stream",
     "text": [
      "c:\\python38\\lib\\site-packages\\sklearn\\experimental\\enable_hist_gradient_boosting.py:16: UserWarning: Since version 1.0, it is not needed to import enable_hist_gradient_boosting anymore. HistGradientBoostingClassifier and HistGradientBoostingRegressor are now stable and can be normally imported from sklearn.ensemble.\n",
      "  warnings.warn(\n"
     ]
    }
   ],
   "source": [
    "import pandas as pd\n",
    "import numpy as np\n",
    "import matplotlib.pyplot as plt\n",
    "%matplotlib inline\n",
    "from sklearn.linear_model import LinearRegression\n",
    "from sklearn.experimental import enable_hist_gradient_boosting\n",
    "from sklearn.ensemble import HistGradientBoostingRegressor\n",
    "from sklearn.datasets import make_regression\n",
    "from sklearn.experimental import enable_hist_gradient_boosting\n",
    "from sklearn.ensemble import HistGradientBoostingRegressor\n",
    "from sklearn.metrics import mean_squared_error, mean_absolute_error, r2_score, explained_variance_score\n",
    "from sklearn.datasets import load_boston\n",
    "from sklearn.model_selection import train_test_split"
   ]
  },
  {
   "cell_type": "code",
   "execution_count": 2,
   "metadata": {},
   "outputs": [],
   "source": [
    "from scipy import stats\n",
    "from datetime import datetime\n",
    "from sklearn import preprocessing\n",
    "from sklearn.model_selection import KFold\n",
    "from sklearn.linear_model import LinearRegression"
   ]
  },
  {
   "cell_type": "code",
   "execution_count": 3,
   "metadata": {},
   "outputs": [],
   "source": [
    "data = pd.read_csv('csv_data/all_lqt2_data_trunc(herg_combined_data).csv')"
   ]
  },
  {
   "cell_type": "code",
   "execution_count": 4,
   "metadata": {},
   "outputs": [
    {
     "data": {
      "text/plain": [
       "['Unnamed: 0',\n",
       " 'var',\n",
       " 'isoform',\n",
       " 'mut_type',\n",
       " 'resnum',\n",
       " 'lqt2',\n",
       " 'unaff',\n",
       " 'total_carriers',\n",
       " 'gnomAD',\n",
       " 'gnomAD_seq',\n",
       " 'weight',\n",
       " 'penetrance_lqt2',\n",
       " 'lqt2_penetranceBayesian_initial',\n",
       " 'lqt2_penetranceBayesian',\n",
       " 'pph2_prob',\n",
       " 'blast_pssm',\n",
       " 'provean_score',\n",
       " 'pamscore',\n",
       " 'aasimilaritymat',\n",
       " 'revel_score',\n",
       " 'hm_ssPeak',\n",
       " 'hm_tailPeak',\n",
       " 'hm_vhalfact',\n",
       " 'hm_vhalfinact',\n",
       " 'hm_recovfrominact',\n",
       " 'hm_taudeact_fast',\n",
       " 'ht_ssPeak',\n",
       " 'ht_tailPeak',\n",
       " 'ht_vhalfact',\n",
       " 'ht_vhalfinact',\n",
       " 'ht_recovfrominact',\n",
       " 'ht_taudeact_fast',\n",
       " 'lqt2_dist',\n",
       " 'lqt2_dist_weight',\n",
       " 'Structure',\n",
       " 'Function',\n",
       " 'p_mean_w',\n",
       " 'prior_mean_w',\n",
       " 'prior_mean',\n",
       " 'alpha',\n",
       " 'beta',\n",
       " 'lqt2_patho',\n",
       " 'p_mean_prior',\n",
       " 'RMSF',\n",
       " 'lqt2_dist_sequence',\n",
       " 'lqt2_dist_weight_sequence',\n",
       " 'lqt2_dist_observed',\n",
       " 'lqt2_dist_weight_observed',\n",
       " 'lqt2_dist_max',\n",
       " 'lqt2_dist_weight_max',\n",
       " 'lqt2_dist_mean',\n",
       " 'lqt2_dist_weight_mean',\n",
       " 'lqt2_dist_obs_max',\n",
       " 'lqt2_dist_weight_obs_max',\n",
       " 'lqt2_dist_obs_mean',\n",
       " 'lqt2_dist_weight_obs_mean',\n",
       " 'lqt2_dist_obs_seq',\n",
       " 'lqt2_dist_weight_obs_seq']"
      ]
     },
     "execution_count": 4,
     "metadata": {},
     "output_type": "execute_result"
    }
   ],
   "source": [
    "list(data)"
   ]
  },
  {
   "cell_type": "markdown",
   "metadata": {},
   "source": [
    "#### MSE: mean squared error\n",
    "#### RMSE: root-mean-square deviation\n",
    "#### MAE: mean absolute error"
   ]
  },
  {
   "cell_type": "markdown",
   "metadata": {},
   "source": [
    "## Target Variable: penetrance_lqt2"
   ]
  },
  {
   "cell_type": "code",
   "execution_count": 5,
   "metadata": {},
   "outputs": [],
   "source": [
    "filter_columns = ['lqt2_penetranceBayesian_initial','RMSF','lqt2_dist_sequence',\n",
    "                  'lqt2_dist_weight_sequence',\n",
    "                  'lqt2_dist_observed','lqt2_dist_weight_observed', 'lqt2_dist_max', \n",
    "                  'lqt2_dist_weight_max','lqt2_dist_mean','lqt2_dist_weight_mean',\n",
    "                  'lqt2_dist_obs_max','lqt2_dist_weight_obs_max','lqt2_dist_obs_mean',\n",
    "                  'lqt2_dist_weight_obs_mean','lqt2_dist_obs_seq','lqt2_dist_weight_obs_seq', \n",
    "                  'revel_score','ht_tailPeak','hm_tailPeak','lqt2_dist','lqt2_dist_weight',\n",
    "                  'lqt2','unaff','total_carriers','gnomAD','gnomAD_seq','weight','pph2_prob',\n",
    "                  'blast_pssm','provean_score','pamscore','aasimilaritymat','hm_ssPeak',\n",
    "                  'hm_vhalfact','hm_vhalfinact','hm_recovfrominact','hm_taudeact_fast',\n",
    "                  'ht_ssPeak','ht_vhalfact','ht_vhalfinact','ht_recovfrominact',\n",
    "                  'ht_taudeact_fast','prior_mean_w', 'prior_mean','alpha','beta','lqt2_patho',\n",
    "                  'p_mean_prior']\n",
    "\n",
    "df = data.filter(filter_columns, axis=1)"
   ]
  },
  {
   "cell_type": "code",
   "execution_count": 6,
   "metadata": {},
   "outputs": [],
   "source": [
    "features = ['RMSF','lqt2_dist_sequence','lqt2_dist_weight_sequence',\n",
    "                  'lqt2_dist_observed','lqt2_dist_weight_observed', 'lqt2_dist_max', \n",
    "                  'lqt2_dist_weight_max','lqt2_dist_mean','lqt2_dist_weight_mean',\n",
    "                  'lqt2_dist_obs_max','lqt2_dist_weight_obs_max','lqt2_dist_obs_mean',\n",
    "                  'lqt2_dist_weight_obs_mean','lqt2_dist_obs_seq','lqt2_dist_weight_obs_seq']\n",
    "\n",
    "X = pd.DataFrame(df[features])\n",
    "y = pd.DataFrame(df['lqt2_penetranceBayesian_initial'])"
   ]
  },
  {
   "cell_type": "code",
   "execution_count": 7,
   "metadata": {},
   "outputs": [
    {
     "name": "stderr",
     "output_type": "stream",
     "text": [
      "c:\\python38\\lib\\site-packages\\sklearn\\utils\\validation.py:1111: DataConversionWarning: A column-vector y was passed when a 1d array was expected. Please change the shape of y to (n_samples, ), for example using ravel().\n",
      "  y = column_or_1d(y, warn=True)\n"
     ]
    },
    {
     "name": "stdout",
     "output_type": "stream",
     "text": [
      "MSE: 0.02\n",
      "RMSE: 0.15\n",
      "MAE: 0.12\n",
      "R-squared: 0.50\n",
      "Explained variance score: 0.50\n"
     ]
    }
   ],
   "source": [
    "# split the data into training and testing sets\n",
    "X_train, X_test, y_train, y_test = train_test_split(X, y, test_size=0.2, random_state=42)\n",
    "\n",
    "# create and train the HistGradientBoostingRegressor model\n",
    "reg = HistGradientBoostingRegressor(max_iter=100, max_depth=3, random_state=42)\n",
    "reg.fit(X_train, y_train)\n",
    "\n",
    "# evaluate the model on the test set\n",
    "y_pred = reg.predict(X_test)\n",
    "mse = mean_squared_error(y_test, y_pred)\n",
    "rmse = np.sqrt(mse)\n",
    "mae = mean_absolute_error(y_test, y_pred)\n",
    "r2 = r2_score(y_test, y_pred)\n",
    "evs = explained_variance_score(y_test, y_pred)\n",
    "\n",
    "print(\"MSE: {:.2f}\".format(mse))\n",
    "print(\"RMSE: {:.2f}\".format(rmse))\n",
    "print(\"MAE: {:.2f}\".format(mae))\n",
    "print(\"R-squared: {:.2f}\".format(r2))\n",
    "print(\"Explained variance score: {:.2f}\".format(evs))"
   ]
  },
  {
   "cell_type": "markdown",
   "metadata": {},
   "source": [
    "### --------------------------------------------------------------------------------------------------------------------------------------------------------------"
   ]
  },
  {
   "cell_type": "code",
   "execution_count": 8,
   "metadata": {},
   "outputs": [],
   "source": [
    "features = ['RMSF','lqt2_dist_sequence','lqt2_dist_weight_sequence',\n",
    "                  'lqt2_dist_observed','lqt2_dist_weight_observed', 'lqt2_dist_max', \n",
    "                  'lqt2_dist_weight_max','lqt2_dist_mean','lqt2_dist_weight_mean',\n",
    "                  'lqt2_dist_obs_max','lqt2_dist_weight_obs_max','lqt2_dist_obs_mean',\n",
    "                  'lqt2_dist_weight_obs_mean','lqt2_dist_obs_seq','lqt2_dist_weight_obs_seq',\n",
    "                  'revel_score','ht_tailPeak','hm_tailPeak','lqt2_dist','lqt2_dist_weight']\n",
    "\n",
    "X = pd.DataFrame(df[features])\n",
    "y = pd.DataFrame(df['lqt2_penetranceBayesian_initial'])"
   ]
  },
  {
   "cell_type": "code",
   "execution_count": 9,
   "metadata": {},
   "outputs": [
    {
     "name": "stderr",
     "output_type": "stream",
     "text": [
      "c:\\python38\\lib\\site-packages\\sklearn\\utils\\validation.py:1111: DataConversionWarning: A column-vector y was passed when a 1d array was expected. Please change the shape of y to (n_samples, ), for example using ravel().\n",
      "  y = column_or_1d(y, warn=True)\n"
     ]
    },
    {
     "name": "stdout",
     "output_type": "stream",
     "text": [
      "MSE: 0.02\n",
      "RMSE: 0.14\n",
      "MAE: 0.11\n",
      "R-squared: 0.55\n",
      "Explained variance score: 0.55\n"
     ]
    }
   ],
   "source": [
    "# split the data into training and testing sets\n",
    "X_train, X_test, y_train, y_test = train_test_split(X, y, test_size=0.2, random_state=42)\n",
    "\n",
    "# create and train the HistGradientBoostingRegressor model\n",
    "reg = HistGradientBoostingRegressor(max_iter=100, max_depth=3, random_state=42)\n",
    "reg.fit(X_train, y_train)\n",
    "\n",
    "# evaluate the model on the test set\n",
    "y_pred = reg.predict(X_test)\n",
    "mse = mean_squared_error(y_test, y_pred)\n",
    "rmse = np.sqrt(mse)\n",
    "mae = mean_absolute_error(y_test, y_pred)\n",
    "r2 = r2_score(y_test, y_pred)\n",
    "evs = explained_variance_score(y_test, y_pred)\n",
    "\n",
    "print(\"MSE: {:.2f}\".format(mse))\n",
    "print(\"RMSE: {:.2f}\".format(rmse))\n",
    "print(\"MAE: {:.2f}\".format(mae))\n",
    "print(\"R-squared: {:.2f}\".format(r2))\n",
    "print(\"Explained variance score: {:.2f}\".format(evs))"
   ]
  },
  {
   "cell_type": "markdown",
   "metadata": {},
   "source": [
    "### --------------------------------------------------------------------------------------------------------------------------------------------------------------"
   ]
  },
  {
   "cell_type": "code",
   "execution_count": 10,
   "metadata": {},
   "outputs": [],
   "source": [
    "features = ['RMSF', 'lqt2_dist_max', 'lqt2_dist_weight_max', 'lqt2_dist_mean', 'lqt2_dist_weight_mean']\n",
    "\n",
    "X = pd.DataFrame(df[features])\n",
    "y = pd.DataFrame(df['lqt2_penetranceBayesian_initial'])"
   ]
  },
  {
   "cell_type": "code",
   "execution_count": 11,
   "metadata": {},
   "outputs": [
    {
     "name": "stderr",
     "output_type": "stream",
     "text": [
      "c:\\python38\\lib\\site-packages\\sklearn\\utils\\validation.py:1111: DataConversionWarning: A column-vector y was passed when a 1d array was expected. Please change the shape of y to (n_samples, ), for example using ravel().\n",
      "  y = column_or_1d(y, warn=True)\n"
     ]
    },
    {
     "name": "stdout",
     "output_type": "stream",
     "text": [
      "MSE: 0.02\n",
      "RMSE: 0.16\n",
      "MAE: 0.13\n",
      "R-squared: 0.45\n",
      "Explained variance score: 0.45\n"
     ]
    }
   ],
   "source": [
    "# split the data into training and testing sets\n",
    "X_train, X_test, y_train, y_test = train_test_split(X, y, test_size=0.2, random_state=42)\n",
    "\n",
    "# create and train the HistGradientBoostingRegressor model\n",
    "reg = HistGradientBoostingRegressor(max_iter=100, max_depth=3, random_state=42)\n",
    "reg.fit(X_train, y_train)\n",
    "\n",
    "# evaluate the model on the test set\n",
    "y_pred = reg.predict(X_test)\n",
    "mse = mean_squared_error(y_test, y_pred)\n",
    "rmse = np.sqrt(mse)\n",
    "mae = mean_absolute_error(y_test, y_pred)\n",
    "r2 = r2_score(y_test, y_pred)\n",
    "evs = explained_variance_score(y_test, y_pred)\n",
    "\n",
    "print(\"MSE: {:.2f}\".format(mse))\n",
    "print(\"RMSE: {:.2f}\".format(rmse))\n",
    "print(\"MAE: {:.2f}\".format(mae))\n",
    "print(\"R-squared: {:.2f}\".format(r2))\n",
    "print(\"Explained variance score: {:.2f}\".format(evs))"
   ]
  },
  {
   "cell_type": "markdown",
   "metadata": {},
   "source": [
    "### --------------------------------------------------------------------------------------------------------------------------------------------------------------"
   ]
  },
  {
   "cell_type": "code",
   "execution_count": 12,
   "metadata": {},
   "outputs": [],
   "source": [
    "features = ['RMSF', 'lqt2_dist_observed','lqt2_dist_weight_observed', 'lqt2_dist_obs_seq', 'lqt2_dist_weight_obs_seq']\n",
    "\n",
    "X = pd.DataFrame(df[features])\n",
    "y = pd.DataFrame(df['lqt2_penetranceBayesian_initial'])"
   ]
  },
  {
   "cell_type": "code",
   "execution_count": 13,
   "metadata": {},
   "outputs": [
    {
     "name": "stderr",
     "output_type": "stream",
     "text": [
      "c:\\python38\\lib\\site-packages\\sklearn\\utils\\validation.py:1111: DataConversionWarning: A column-vector y was passed when a 1d array was expected. Please change the shape of y to (n_samples, ), for example using ravel().\n",
      "  y = column_or_1d(y, warn=True)\n"
     ]
    },
    {
     "name": "stdout",
     "output_type": "stream",
     "text": [
      "MSE: 0.02\n",
      "RMSE: 0.15\n",
      "MAE: 0.12\n",
      "R-squared: 0.49\n",
      "Explained variance score: 0.49\n"
     ]
    }
   ],
   "source": [
    "# split the data into training and testing sets\n",
    "X_train, X_test, y_train, y_test = train_test_split(X, y, test_size=0.2, random_state=42)\n",
    "\n",
    "# create and train the HistGradientBoostingRegressor model\n",
    "reg = HistGradientBoostingRegressor(max_iter=100, max_depth=3, random_state=42)\n",
    "reg.fit(X_train, y_train)\n",
    "\n",
    "# evaluate the model on the test set\n",
    "y_pred = reg.predict(X_test)\n",
    "mse = mean_squared_error(y_test, y_pred)\n",
    "rmse = np.sqrt(mse)\n",
    "mae = mean_absolute_error(y_test, y_pred)\n",
    "r2 = r2_score(y_test, y_pred)\n",
    "evs = explained_variance_score(y_test, y_pred)\n",
    "\n",
    "print(\"MSE: {:.2f}\".format(mse))\n",
    "print(\"RMSE: {:.2f}\".format(rmse))\n",
    "print(\"MAE: {:.2f}\".format(mae))\n",
    "print(\"R-squared: {:.2f}\".format(r2))\n",
    "print(\"Explained variance score: {:.2f}\".format(evs))"
   ]
  },
  {
   "cell_type": "markdown",
   "metadata": {},
   "source": [
    "### --------------------------------------------------------------------------------------------------------------------------------------------------------------"
   ]
  },
  {
   "cell_type": "code",
   "execution_count": 14,
   "metadata": {},
   "outputs": [],
   "source": [
    "features = ['RMSF', 'lqt2_dist_max', 'revel_score']\n",
    "\n",
    "X = pd.DataFrame(df[features])\n",
    "y = pd.DataFrame(df['lqt2_penetranceBayesian_initial'])"
   ]
  },
  {
   "cell_type": "code",
   "execution_count": 15,
   "metadata": {},
   "outputs": [
    {
     "name": "stderr",
     "output_type": "stream",
     "text": [
      "c:\\python38\\lib\\site-packages\\sklearn\\utils\\validation.py:1111: DataConversionWarning: A column-vector y was passed when a 1d array was expected. Please change the shape of y to (n_samples, ), for example using ravel().\n",
      "  y = column_or_1d(y, warn=True)\n"
     ]
    },
    {
     "name": "stdout",
     "output_type": "stream",
     "text": [
      "MSE: 0.02\n",
      "RMSE: 0.15\n",
      "MAE: 0.12\n",
      "R-squared: 0.53\n",
      "Explained variance score: 0.53\n"
     ]
    }
   ],
   "source": [
    "# split the data into training and testing sets\n",
    "X_train, X_test, y_train, y_test = train_test_split(X, y, test_size=0.2, random_state=42)\n",
    "\n",
    "# create and train the HistGradientBoostingRegressor model\n",
    "reg = HistGradientBoostingRegressor(max_iter=100, max_depth=3, random_state=42)\n",
    "reg.fit(X_train, y_train)\n",
    "\n",
    "# evaluate the model on the test set\n",
    "y_pred = reg.predict(X_test)\n",
    "mse = mean_squared_error(y_test, y_pred)\n",
    "rmse = np.sqrt(mse)\n",
    "mae = mean_absolute_error(y_test, y_pred)\n",
    "r2 = r2_score(y_test, y_pred)\n",
    "evs = explained_variance_score(y_test, y_pred)\n",
    "\n",
    "print(\"MSE: {:.2f}\".format(mse))\n",
    "print(\"RMSE: {:.2f}\".format(rmse))\n",
    "print(\"MAE: {:.2f}\".format(mae))\n",
    "print(\"R-squared: {:.2f}\".format(r2))\n",
    "print(\"Explained variance score: {:.2f}\".format(evs))"
   ]
  },
  {
   "cell_type": "markdown",
   "metadata": {},
   "source": [
    "### --------------------------------------------------------------------------------------------------------------------------------------------------------------"
   ]
  },
  {
   "cell_type": "code",
   "execution_count": 16,
   "metadata": {},
   "outputs": [],
   "source": [
    "features = ['RMSF', 'lqt2_dist_max', 'lqt2_dist_sequence', \n",
    "            'lqt2_dist_observed', 'lqt2_dist_mean', 'revel_score', \n",
    "            'lqt2_dist_obs_max', 'lqt2_dist_obs_mean', 'lqt2_dist_obs_seq',' lqt2_dist']\n",
    "\n",
    "X = pd.DataFrame(df[features])\n",
    "y = pd.DataFrame(df['lqt2_penetranceBayesian_initial'])"
   ]
  },
  {
   "cell_type": "code",
   "execution_count": 17,
   "metadata": {},
   "outputs": [
    {
     "name": "stderr",
     "output_type": "stream",
     "text": [
      "c:\\python38\\lib\\site-packages\\sklearn\\utils\\validation.py:1111: DataConversionWarning: A column-vector y was passed when a 1d array was expected. Please change the shape of y to (n_samples, ), for example using ravel().\n",
      "  y = column_or_1d(y, warn=True)\n"
     ]
    },
    {
     "name": "stdout",
     "output_type": "stream",
     "text": [
      "MSE: 0.02\n",
      "RMSE: 0.15\n",
      "MAE: 0.12\n",
      "R-squared: 0.53\n",
      "Explained variance score: 0.53\n"
     ]
    }
   ],
   "source": [
    "# split the data into training and testing sets\n",
    "X_train, X_test, y_train, y_test = train_test_split(X, y, test_size=0.2, random_state=42)\n",
    "\n",
    "# create and train the HistGradientBoostingRegressor model\n",
    "reg = HistGradientBoostingRegressor(max_iter=100, max_depth=3, random_state=42)\n",
    "reg.fit(X_train, y_train)\n",
    "\n",
    "# evaluate the model on the test set\n",
    "y_pred = reg.predict(X_test)\n",
    "mse = mean_squared_error(y_test, y_pred)\n",
    "rmse = np.sqrt(mse)\n",
    "mae = mean_absolute_error(y_test, y_pred)\n",
    "r2 = r2_score(y_test, y_pred)\n",
    "evs = explained_variance_score(y_test, y_pred)\n",
    "\n",
    "print(\"MSE: {:.2f}\".format(mse))\n",
    "print(\"RMSE: {:.2f}\".format(rmse))\n",
    "print(\"MAE: {:.2f}\".format(mae))\n",
    "print(\"R-squared: {:.2f}\".format(r2))\n",
    "print(\"Explained variance score: {:.2f}\".format(evs))"
   ]
  },
  {
   "cell_type": "markdown",
   "metadata": {},
   "source": [
    "### --------------------------------------------------------------------------------------------------------------------------------------------------------------"
   ]
  },
  {
   "cell_type": "code",
   "execution_count": 16,
   "metadata": {},
   "outputs": [],
   "source": [
    "features = ['RMSF', 'lqt2_dist_max', 'revel_score']\n",
    "\n",
    "X = pd.DataFrame(df[features])\n",
    "y = pd.DataFrame(df['lqt2_penetranceBayesian_initial'])"
   ]
  },
  {
   "cell_type": "code",
   "execution_count": 17,
   "metadata": {},
   "outputs": [
    {
     "name": "stderr",
     "output_type": "stream",
     "text": [
      "c:\\python38\\lib\\site-packages\\sklearn\\utils\\validation.py:1111: DataConversionWarning: A column-vector y was passed when a 1d array was expected. Please change the shape of y to (n_samples, ), for example using ravel().\n",
      "  y = column_or_1d(y, warn=True)\n"
     ]
    },
    {
     "name": "stdout",
     "output_type": "stream",
     "text": [
      "MSE: 0.02\n",
      "RMSE: 0.15\n",
      "MAE: 0.12\n",
      "R-squared: 0.53\n",
      "Explained variance score: 0.53\n"
     ]
    }
   ],
   "source": [
    "# split the data into training and testing sets\n",
    "X_train, X_test, y_train, y_test = train_test_split(X, y, test_size=0.2, random_state=42)\n",
    "\n",
    "# create and train the HistGradientBoostingRegressor model\n",
    "reg = HistGradientBoostingRegressor(max_iter=100, max_depth=3, random_state=42)\n",
    "reg.fit(X_train, y_train)\n",
    "\n",
    "# evaluate the model on the test set\n",
    "y_pred = reg.predict(X_test)\n",
    "mse = mean_squared_error(y_test, y_pred)\n",
    "rmse = np.sqrt(mse)\n",
    "mae = mean_absolute_error(y_test, y_pred)\n",
    "r2 = r2_score(y_test, y_pred)\n",
    "evs = explained_variance_score(y_test, y_pred)\n",
    "\n",
    "print(\"MSE: {:.2f}\".format(mse))\n",
    "print(\"RMSE: {:.2f}\".format(rmse))\n",
    "print(\"MAE: {:.2f}\".format(mae))\n",
    "print(\"R-squared: {:.2f}\".format(r2))\n",
    "print(\"Explained variance score: {:.2f}\".format(evs))"
   ]
  },
  {
   "cell_type": "code",
   "execution_count": null,
   "metadata": {},
   "outputs": [],
   "source": []
  }
 ],
 "metadata": {
  "kernelspec": {
   "display_name": "Python 3 (ipykernel)",
   "language": "python",
   "name": "python3"
  },
  "language_info": {
   "codemirror_mode": {
    "name": "ipython",
    "version": 3
   },
   "file_extension": ".py",
   "mimetype": "text/x-python",
   "name": "python",
   "nbconvert_exporter": "python",
   "pygments_lexer": "ipython3",
   "version": "3.8.2"
  },
  "vscode": {
   "interpreter": {
    "hash": "40d3a090f54c6569ab1632332b64b2c03c39dcf918b08424e98f38b5ae0af88f"
   }
  }
 },
 "nbformat": 4,
 "nbformat_minor": 2
}
