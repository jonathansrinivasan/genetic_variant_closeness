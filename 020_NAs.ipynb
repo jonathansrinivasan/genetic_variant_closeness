{
 "cells": [
  {
   "cell_type": "markdown",
   "metadata": {},
   "source": [
    "# NA Values"
   ]
  },
  {
   "cell_type": "code",
   "execution_count": 1,
   "metadata": {},
   "outputs": [
    {
     "name": "stderr",
     "output_type": "stream",
     "text": [
      "c:\\python38\\lib\\site-packages\\sklearn\\experimental\\enable_hist_gradient_boosting.py:16: UserWarning: Since version 1.0, it is not needed to import enable_hist_gradient_boosting anymore. HistGradientBoostingClassifier and HistGradientBoostingRegressor are now stable and can be normally imported from sklearn.ensemble.\n",
      "  warnings.warn(\n"
     ]
    }
   ],
   "source": [
    "import pandas as pd\n",
    "import numpy as np\n",
    "import matplotlib.pyplot as plt\n",
    "%matplotlib inline\n",
    "from sklearn.linear_model import LinearRegression\n",
    "from sklearn.experimental import enable_hist_gradient_boosting\n",
    "from sklearn.ensemble import HistGradientBoostingRegressor\n",
    "from sklearn.datasets import make_regression"
   ]
  },
  {
   "cell_type": "code",
   "execution_count": 2,
   "metadata": {},
   "outputs": [],
   "source": [
    "from scipy import stats\n",
    "from datetime import datetime\n",
    "from sklearn import preprocessing\n",
    "from sklearn.model_selection import KFold\n",
    "from sklearn.linear_model import LinearRegression"
   ]
  },
  {
   "cell_type": "code",
   "execution_count": 3,
   "metadata": {},
   "outputs": [],
   "source": [
    "data = pd.read_csv('csv_data/all_lqt2_data_trunc(herg_combined_data).csv')"
   ]
  },
  {
   "cell_type": "code",
   "execution_count": 4,
   "metadata": {},
   "outputs": [
    {
     "data": {
      "text/plain": [
       "['Unnamed: 0',\n",
       " 'var',\n",
       " 'isoform',\n",
       " 'mut_type',\n",
       " 'resnum',\n",
       " 'lqt2',\n",
       " 'unaff',\n",
       " 'total_carriers',\n",
       " 'gnomAD',\n",
       " 'gnomAD_seq',\n",
       " 'weight',\n",
       " 'penetrance_lqt2',\n",
       " 'lqt2_penetranceBayesian_initial',\n",
       " 'lqt2_penetranceBayesian',\n",
       " 'pph2_prob',\n",
       " 'blast_pssm',\n",
       " 'provean_score',\n",
       " 'pamscore',\n",
       " 'aasimilaritymat',\n",
       " 'revel_score',\n",
       " 'hm_ssPeak',\n",
       " 'hm_tailPeak',\n",
       " 'hm_vhalfact',\n",
       " 'hm_vhalfinact',\n",
       " 'hm_recovfrominact',\n",
       " 'hm_taudeact_fast',\n",
       " 'ht_ssPeak',\n",
       " 'ht_tailPeak',\n",
       " 'ht_vhalfact',\n",
       " 'ht_vhalfinact',\n",
       " 'ht_recovfrominact',\n",
       " 'ht_taudeact_fast',\n",
       " 'lqt2_dist',\n",
       " 'lqt2_dist_weight',\n",
       " 'Structure',\n",
       " 'Function',\n",
       " 'p_mean_w',\n",
       " 'prior_mean_w',\n",
       " 'prior_mean',\n",
       " 'alpha',\n",
       " 'beta',\n",
       " 'lqt2_patho',\n",
       " 'p_mean_prior',\n",
       " 'RMSF',\n",
       " 'lqt2_dist_sequence',\n",
       " 'lqt2_dist_weight_sequence',\n",
       " 'lqt2_dist_observed',\n",
       " 'lqt2_dist_weight_observed',\n",
       " 'lqt2_dist_max',\n",
       " 'lqt2_dist_weight_max',\n",
       " 'lqt2_dist_mean',\n",
       " 'lqt2_dist_weight_mean',\n",
       " 'lqt2_dist_obs_max',\n",
       " 'lqt2_dist_weight_obs_max',\n",
       " 'lqt2_dist_obs_mean',\n",
       " 'lqt2_dist_weight_obs_mean',\n",
       " 'lqt2_dist_obs_seq',\n",
       " 'lqt2_dist_weight_obs_seq']"
      ]
     },
     "execution_count": 4,
     "metadata": {},
     "output_type": "execute_result"
    }
   ],
   "source": [
    "list(data)"
   ]
  },
  {
   "cell_type": "code",
   "execution_count": 5,
   "metadata": {},
   "outputs": [
    {
     "name": "stdout",
     "output_type": "stream",
     "text": [
      "ht_recovfrominact                  893\n",
      "hm_recovfrominact                  885\n",
      "ht_taudeact_fast                   879\n",
      "hm_ssPeak                          878\n",
      "ht_vhalfinact                      870\n",
      "ht_ssPeak                          866\n",
      "hm_vhalfinact                      865\n",
      "ht_vhalfact                        852\n",
      "hm_taudeact_fast                   849\n",
      "hm_vhalfact                        819\n",
      "ht_tailPeak                        806\n",
      "Function                           806\n",
      "hm_tailPeak                        786\n",
      "RMSF                               436\n",
      "gnomAD_seq                         408\n",
      "lqt2_dist_observed                 375\n",
      "lqt2_dist_weight_observed          375\n",
      "lqt2_dist_obs_max                  375\n",
      "lqt2_dist_weight_obs_max           375\n",
      "lqt2_dist_obs_mean                 375\n",
      "lqt2_dist_weight_obs_mean          375\n",
      "lqt2_dist_obs_seq                  375\n",
      "lqt2_dist_weight_obs_seq           375\n",
      "provean_score                       42\n",
      "blast_pssm                          42\n",
      "pph2_prob                           42\n",
      "pamscore                            38\n",
      "aasimilaritymat                     38\n",
      "revel_score                         35\n",
      "gnomAD                              11\n",
      "lqt2_dist_mean                       0\n",
      "lqt2_dist_weight_sequence            0\n",
      "total_carriers                       0\n",
      "lqt2_dist_max                        0\n",
      "lqt2_dist_weight_max                 0\n",
      "unaff                                0\n",
      "lqt2_dist_weight_mean                0\n",
      "weight                               0\n",
      "lqt2                                 0\n",
      "resnum                               0\n",
      "mut_type                             0\n",
      "isoform                              0\n",
      "lqt2_dist_sequence                   0\n",
      "beta                                 0\n",
      "p_mean_prior                         0\n",
      "lqt2_patho                           0\n",
      "alpha                                0\n",
      "prior_mean                           0\n",
      "prior_mean_w                         0\n",
      "p_mean_w                             0\n",
      "penetrance_lqt2                      0\n",
      "Structure                            0\n",
      "lqt2_dist_weight                     0\n",
      "lqt2_dist                            0\n",
      "lqt2_penetranceBayesian_initial      0\n",
      "lqt2_penetranceBayesian              0\n",
      "var                                  0\n",
      "Unnamed: 0                           0\n",
      "dtype: int64\n"
     ]
    }
   ],
   "source": [
    "na_counts = data.isna().sum()\n",
    "\n",
    "# sort the columns by the number of NaN values in descending order\n",
    "na_counts = na_counts.sort_values(ascending=False)\n",
    "\n",
    "# print the result\n",
    "print(na_counts)"
   ]
  },
  {
   "cell_type": "code",
   "execution_count": null,
   "metadata": {},
   "outputs": [],
   "source": []
  },
  {
   "cell_type": "code",
   "execution_count": null,
   "metadata": {},
   "outputs": [],
   "source": []
  },
  {
   "cell_type": "code",
   "execution_count": null,
   "metadata": {},
   "outputs": [],
   "source": []
  },
  {
   "cell_type": "code",
   "execution_count": 8,
   "metadata": {},
   "outputs": [
    {
     "name": "stdout",
     "output_type": "stream",
     "text": [
      "True\n"
     ]
    }
   ],
   "source": [
    "print(data['lqt2_penetranceBayesian_initial'].equals(data['lqt2_penetranceBayesian']))"
   ]
  },
  {
   "cell_type": "code",
   "execution_count": null,
   "metadata": {},
   "outputs": [],
   "source": []
  }
 ],
 "metadata": {
  "kernelspec": {
   "display_name": "Python 3 (ipykernel)",
   "language": "python",
   "name": "python3"
  },
  "language_info": {
   "codemirror_mode": {
    "name": "ipython",
    "version": 3
   },
   "file_extension": ".py",
   "mimetype": "text/x-python",
   "name": "python",
   "nbconvert_exporter": "python",
   "pygments_lexer": "ipython3",
   "version": "3.8.2"
  },
  "vscode": {
   "interpreter": {
    "hash": "40d3a090f54c6569ab1632332b64b2c03c39dcf918b08424e98f38b5ae0af88f"
   }
  }
 },
 "nbformat": 4,
 "nbformat_minor": 2
}
