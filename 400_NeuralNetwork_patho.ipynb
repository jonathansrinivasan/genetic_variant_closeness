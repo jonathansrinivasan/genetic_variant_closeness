{
 "cells": [
  {
   "cell_type": "markdown",
   "metadata": {},
   "source": [
    "# Neural Network\n",
    "## Target Variable: lqt2_patho"
   ]
  },
  {
   "cell_type": "code",
   "execution_count": 1,
   "metadata": {},
   "outputs": [
    {
     "name": "stderr",
     "output_type": "stream",
     "text": [
      "c:\\python38\\lib\\site-packages\\sklearn\\experimental\\enable_hist_gradient_boosting.py:16: UserWarning: Since version 1.0, it is not needed to import enable_hist_gradient_boosting anymore. HistGradientBoostingClassifier and HistGradientBoostingRegressor are now stable and can be normally imported from sklearn.ensemble.\n",
      "  warnings.warn(\n"
     ]
    }
   ],
   "source": [
    "import pandas as pd\n",
    "import numpy as np\n",
    "import matplotlib.pyplot as plt\n",
    "%matplotlib inline\n",
    "from sklearn.linear_model import LinearRegression\n",
    "from sklearn.experimental import enable_hist_gradient_boosting\n",
    "from sklearn.ensemble import HistGradientBoostingRegressor\n",
    "from sklearn.datasets import make_regression\n",
    "from sklearn.experimental import enable_hist_gradient_boosting\n",
    "from sklearn.ensemble import HistGradientBoostingRegressor\n",
    "from sklearn.metrics import mean_squared_error, mean_absolute_error, r2_score, explained_variance_score, accuracy_score\n",
    "from sklearn.datasets import load_boston\n",
    "from sklearn.model_selection import train_test_split\n",
    "from scipy import stats\n",
    "from datetime import datetime\n",
    "from sklearn import preprocessing\n",
    "from sklearn.model_selection import KFold\n",
    "from sklearn.datasets import make_classification\n",
    "import xgboost as xgb\n",
    "from tensorflow.keras.models import Sequential\n",
    "from tensorflow.keras.layers import Dense\n",
    "import tensorflow as tf\n",
    "from tensorflow import keras\n",
    "from tensorflow.keras import layers\n",
    "from sklearn.metrics import accuracy_score, precision_score, recall_score, f1_score, confusion_matrix, roc_curve, auc\n",
    "import matplotlib.pyplot as plt"
   ]
  },
  {
   "cell_type": "code",
   "execution_count": null,
   "metadata": {},
   "outputs": [],
   "source": []
  },
  {
   "cell_type": "code",
   "execution_count": 2,
   "metadata": {},
   "outputs": [],
   "source": [
    "data = pd.read_csv('csv_data/all_lqt2_data_trunc(herg_combined_data).csv')"
   ]
  },
  {
   "cell_type": "code",
   "execution_count": 3,
   "metadata": {
    "scrolled": true
   },
   "outputs": [
    {
     "data": {
      "text/plain": [
       "['Unnamed: 0',\n",
       " 'var',\n",
       " 'isoform',\n",
       " 'mut_type',\n",
       " 'resnum',\n",
       " 'lqt2',\n",
       " 'unaff',\n",
       " 'total_carriers',\n",
       " 'gnomAD',\n",
       " 'gnomAD_seq',\n",
       " 'weight',\n",
       " 'penetrance_lqt2',\n",
       " 'lqt2_penetranceBayesian_initial',\n",
       " 'lqt2_penetranceBayesian',\n",
       " 'pph2_prob',\n",
       " 'blast_pssm',\n",
       " 'provean_score',\n",
       " 'pamscore',\n",
       " 'aasimilaritymat',\n",
       " 'revel_score',\n",
       " 'hm_ssPeak',\n",
       " 'hm_tailPeak',\n",
       " 'hm_vhalfact',\n",
       " 'hm_vhalfinact',\n",
       " 'hm_recovfrominact',\n",
       " 'hm_taudeact_fast',\n",
       " 'ht_ssPeak',\n",
       " 'ht_tailPeak',\n",
       " 'ht_vhalfact',\n",
       " 'ht_vhalfinact',\n",
       " 'ht_recovfrominact',\n",
       " 'ht_taudeact_fast',\n",
       " 'lqt2_dist',\n",
       " 'lqt2_dist_weight',\n",
       " 'Structure',\n",
       " 'Function',\n",
       " 'p_mean_w',\n",
       " 'prior_mean_w',\n",
       " 'prior_mean',\n",
       " 'alpha',\n",
       " 'beta',\n",
       " 'lqt2_patho',\n",
       " 'p_mean_prior',\n",
       " 'RMSF',\n",
       " 'lqt2_dist_sequence',\n",
       " 'lqt2_dist_weight_sequence',\n",
       " 'lqt2_dist_observed',\n",
       " 'lqt2_dist_weight_observed',\n",
       " 'lqt2_dist_max',\n",
       " 'lqt2_dist_weight_max',\n",
       " 'lqt2_dist_mean',\n",
       " 'lqt2_dist_weight_mean',\n",
       " 'lqt2_dist_obs_max',\n",
       " 'lqt2_dist_weight_obs_max',\n",
       " 'lqt2_dist_obs_mean',\n",
       " 'lqt2_dist_weight_obs_mean',\n",
       " 'lqt2_dist_obs_seq',\n",
       " 'lqt2_dist_weight_obs_seq']"
      ]
     },
     "execution_count": 3,
     "metadata": {},
     "output_type": "execute_result"
    }
   ],
   "source": [
    "list(data)"
   ]
  },
  {
   "cell_type": "code",
   "execution_count": 4,
   "metadata": {},
   "outputs": [],
   "source": [
    "filter_columns = ['penetrance_lqt2','RMSF','lqt2_dist_sequence','lqt2_dist_weight_sequence',\n",
    "                  'lqt2_dist_observed','lqt2_dist_weight_observed', 'lqt2_dist_max', \n",
    "                  'lqt2_dist_weight_max','lqt2_dist_mean','lqt2_dist_weight_mean',\n",
    "                  'lqt2_dist_obs_max','lqt2_dist_weight_obs_max','lqt2_dist_obs_mean',\n",
    "                  'lqt2_dist_weight_obs_mean','lqt2_dist_obs_seq','lqt2_dist_weight_obs_seq', \n",
    "                  'revel_score','ht_tailPeak','hm_tailPeak','lqt2_dist','lqt2_dist_weight',\n",
    "                  'lqt2','unaff','total_carriers','gnomAD','gnomAD_seq','weight','pph2_prob',\n",
    "                  'blast_pssm','provean_score','pamscore','aasimilaritymat','hm_ssPeak',\n",
    "                  'hm_vhalfact','hm_vhalfinact','hm_recovfrominact','hm_taudeact_fast',\n",
    "                  'ht_ssPeak','ht_vhalfact','ht_vhalfinact','ht_recovfrominact',\n",
    "                  'ht_taudeact_fast','prior_mean_w', 'prior_mean','alpha','beta','lqt2_patho',\n",
    "                  'p_mean_prior']\n",
    "\n",
    "df = data.filter(filter_columns, axis=1)"
   ]
  },
  {
   "cell_type": "code",
   "execution_count": 5,
   "metadata": {},
   "outputs": [],
   "source": [
    "features = ['RMSF', 'lqt2_dist_max', 'revel_score', 'lqt2_dist_sequence', 'lqt2_dist_mean', 'lqt2_dist_observed']\n",
    "\n",
    "X = pd.DataFrame(df[features])\n",
    "y = pd.DataFrame(df['lqt2_patho'])"
   ]
  },
  {
   "cell_type": "code",
   "execution_count": 6,
   "metadata": {},
   "outputs": [
    {
     "name": "stdout",
     "output_type": "stream",
     "text": [
      "Epoch 1/50\n",
      "23/23 [==============================] - 2s 31ms/step - loss: nan - accuracy: 0.6333 - val_loss: nan - val_accuracy: 0.5722\n",
      "Epoch 2/50\n",
      "23/23 [==============================] - 0s 8ms/step - loss: nan - accuracy: 0.6278 - val_loss: nan - val_accuracy: 0.5722\n",
      "Epoch 3/50\n",
      "23/23 [==============================] - 0s 9ms/step - loss: nan - accuracy: 0.6278 - val_loss: nan - val_accuracy: 0.5722\n",
      "Epoch 4/50\n",
      "23/23 [==============================] - 0s 9ms/step - loss: nan - accuracy: 0.6278 - val_loss: nan - val_accuracy: 0.5722\n",
      "Epoch 5/50\n",
      "23/23 [==============================] - 0s 12ms/step - loss: nan - accuracy: 0.6278 - val_loss: nan - val_accuracy: 0.5722\n",
      "Epoch 6/50\n",
      "23/23 [==============================] - 0s 15ms/step - loss: nan - accuracy: 0.6278 - val_loss: nan - val_accuracy: 0.5722\n",
      "Epoch 7/50\n",
      "23/23 [==============================] - 0s 16ms/step - loss: nan - accuracy: 0.6278 - val_loss: nan - val_accuracy: 0.5722\n",
      "Epoch 8/50\n",
      "23/23 [==============================] - 0s 14ms/step - loss: nan - accuracy: 0.6278 - val_loss: nan - val_accuracy: 0.5722\n",
      "Epoch 9/50\n",
      "23/23 [==============================] - 0s 13ms/step - loss: nan - accuracy: 0.6278 - val_loss: nan - val_accuracy: 0.5722\n",
      "Epoch 10/50\n",
      "23/23 [==============================] - 0s 13ms/step - loss: nan - accuracy: 0.6278 - val_loss: nan - val_accuracy: 0.5722\n",
      "Epoch 11/50\n",
      "23/23 [==============================] - 0s 14ms/step - loss: nan - accuracy: 0.6278 - val_loss: nan - val_accuracy: 0.5722\n",
      "Epoch 12/50\n",
      "23/23 [==============================] - 0s 15ms/step - loss: nan - accuracy: 0.6278 - val_loss: nan - val_accuracy: 0.5722\n",
      "Epoch 13/50\n",
      "23/23 [==============================] - 0s 9ms/step - loss: nan - accuracy: 0.6278 - val_loss: nan - val_accuracy: 0.5722\n",
      "Epoch 14/50\n",
      "23/23 [==============================] - 0s 6ms/step - loss: nan - accuracy: 0.6278 - val_loss: nan - val_accuracy: 0.5722\n",
      "Epoch 15/50\n",
      "23/23 [==============================] - 0s 9ms/step - loss: nan - accuracy: 0.6278 - val_loss: nan - val_accuracy: 0.5722\n",
      "Epoch 16/50\n",
      "23/23 [==============================] - 0s 12ms/step - loss: nan - accuracy: 0.6278 - val_loss: nan - val_accuracy: 0.5722\n",
      "Epoch 17/50\n",
      "23/23 [==============================] - 0s 12ms/step - loss: nan - accuracy: 0.6278 - val_loss: nan - val_accuracy: 0.5722\n",
      "Epoch 18/50\n",
      "23/23 [==============================] - 0s 16ms/step - loss: nan - accuracy: 0.6278 - val_loss: nan - val_accuracy: 0.5722\n",
      "Epoch 19/50\n",
      "23/23 [==============================] - 0s 15ms/step - loss: nan - accuracy: 0.6278 - val_loss: nan - val_accuracy: 0.5722\n",
      "Epoch 20/50\n",
      "23/23 [==============================] - 0s 15ms/step - loss: nan - accuracy: 0.6278 - val_loss: nan - val_accuracy: 0.5722\n",
      "Epoch 21/50\n",
      "23/23 [==============================] - 0s 15ms/step - loss: nan - accuracy: 0.6278 - val_loss: nan - val_accuracy: 0.5722\n",
      "Epoch 22/50\n",
      "23/23 [==============================] - 0s 13ms/step - loss: nan - accuracy: 0.6278 - val_loss: nan - val_accuracy: 0.5722\n",
      "Epoch 23/50\n",
      "23/23 [==============================] - 0s 15ms/step - loss: nan - accuracy: 0.6278 - val_loss: nan - val_accuracy: 0.5722\n",
      "Epoch 24/50\n",
      "23/23 [==============================] - 0s 15ms/step - loss: nan - accuracy: 0.6278 - val_loss: nan - val_accuracy: 0.5722\n",
      "Epoch 25/50\n",
      "23/23 [==============================] - 0s 16ms/step - loss: nan - accuracy: 0.6278 - val_loss: nan - val_accuracy: 0.5722\n",
      "Epoch 26/50\n",
      "23/23 [==============================] - 0s 15ms/step - loss: nan - accuracy: 0.6278 - val_loss: nan - val_accuracy: 0.5722\n",
      "Epoch 27/50\n",
      "23/23 [==============================] - 0s 9ms/step - loss: nan - accuracy: 0.6278 - val_loss: nan - val_accuracy: 0.5722\n",
      "Epoch 28/50\n",
      "23/23 [==============================] - 0s 13ms/step - loss: nan - accuracy: 0.6278 - val_loss: nan - val_accuracy: 0.5722\n",
      "Epoch 29/50\n",
      "23/23 [==============================] - 0s 8ms/step - loss: nan - accuracy: 0.6278 - val_loss: nan - val_accuracy: 0.5722\n",
      "Epoch 30/50\n",
      "23/23 [==============================] - 0s 8ms/step - loss: nan - accuracy: 0.6278 - val_loss: nan - val_accuracy: 0.5722\n",
      "Epoch 31/50\n",
      "23/23 [==============================] - 0s 9ms/step - loss: nan - accuracy: 0.6278 - val_loss: nan - val_accuracy: 0.5722\n",
      "Epoch 32/50\n",
      "23/23 [==============================] - 0s 10ms/step - loss: nan - accuracy: 0.6278 - val_loss: nan - val_accuracy: 0.5722\n",
      "Epoch 33/50\n",
      "23/23 [==============================] - 0s 12ms/step - loss: nan - accuracy: 0.6278 - val_loss: nan - val_accuracy: 0.5722\n",
      "Epoch 34/50\n",
      "23/23 [==============================] - 0s 8ms/step - loss: nan - accuracy: 0.6278 - val_loss: nan - val_accuracy: 0.5722\n",
      "Epoch 35/50\n",
      "23/23 [==============================] - 0s 8ms/step - loss: nan - accuracy: 0.6278 - val_loss: nan - val_accuracy: 0.5722\n",
      "Epoch 36/50\n",
      "23/23 [==============================] - 0s 6ms/step - loss: nan - accuracy: 0.6278 - val_loss: nan - val_accuracy: 0.5722\n",
      "Epoch 37/50\n",
      "23/23 [==============================] - 0s 8ms/step - loss: nan - accuracy: 0.6278 - val_loss: nan - val_accuracy: 0.5722\n",
      "Epoch 38/50\n",
      "23/23 [==============================] - 0s 9ms/step - loss: nan - accuracy: 0.6278 - val_loss: nan - val_accuracy: 0.5722\n",
      "Epoch 39/50\n",
      "23/23 [==============================] - 0s 8ms/step - loss: nan - accuracy: 0.6278 - val_loss: nan - val_accuracy: 0.5722\n",
      "Epoch 40/50\n",
      "23/23 [==============================] - 0s 7ms/step - loss: nan - accuracy: 0.6278 - val_loss: nan - val_accuracy: 0.5722\n",
      "Epoch 41/50\n",
      "23/23 [==============================] - 0s 7ms/step - loss: nan - accuracy: 0.6278 - val_loss: nan - val_accuracy: 0.5722\n",
      "Epoch 42/50\n",
      "23/23 [==============================] - 0s 9ms/step - loss: nan - accuracy: 0.6278 - val_loss: nan - val_accuracy: 0.5722\n",
      "Epoch 43/50\n",
      "23/23 [==============================] - 0s 4ms/step - loss: nan - accuracy: 0.6278 - val_loss: nan - val_accuracy: 0.5722\n",
      "Epoch 44/50\n",
      "23/23 [==============================] - 0s 4ms/step - loss: nan - accuracy: 0.6278 - val_loss: nan - val_accuracy: 0.5722\n",
      "Epoch 45/50\n",
      "23/23 [==============================] - 0s 4ms/step - loss: nan - accuracy: 0.6278 - val_loss: nan - val_accuracy: 0.5722\n",
      "Epoch 46/50\n",
      "23/23 [==============================] - 0s 6ms/step - loss: nan - accuracy: 0.6278 - val_loss: nan - val_accuracy: 0.5722\n",
      "Epoch 47/50\n",
      "23/23 [==============================] - 0s 5ms/step - loss: nan - accuracy: 0.6278 - val_loss: nan - val_accuracy: 0.5722\n",
      "Epoch 48/50\n",
      "23/23 [==============================] - 0s 4ms/step - loss: nan - accuracy: 0.6278 - val_loss: nan - val_accuracy: 0.5722\n",
      "Epoch 49/50\n",
      "23/23 [==============================] - 0s 7ms/step - loss: nan - accuracy: 0.6278 - val_loss: nan - val_accuracy: 0.5722\n",
      "Epoch 50/50\n",
      "23/23 [==============================] - 0s 10ms/step - loss: nan - accuracy: 0.6278 - val_loss: nan - val_accuracy: 0.5722\n"
     ]
    },
    {
     "data": {
      "text/plain": [
       "<keras.callbacks.History at 0x1a47164d250>"
      ]
     },
     "execution_count": 6,
     "metadata": {},
     "output_type": "execute_result"
    }
   ],
   "source": [
    "model = keras.Sequential([\n",
    "    layers.Dense(16, activation='relu', input_shape=(len(features),)),\n",
    "    layers.Dense(8, activation='relu'),\n",
    "    layers.Dense(1, activation='sigmoid')\n",
    "])\n",
    "\n",
    "# Compile the model\n",
    "model.compile(optimizer='adam', loss='binary_crossentropy', metrics=['accuracy'])\n",
    "\n",
    "# Train the model\n",
    "model.fit(X, y, epochs=50, batch_size=32, validation_split=0.2)"
   ]
  },
  {
   "cell_type": "code",
   "execution_count": 7,
   "metadata": {},
   "outputs": [
    {
     "name": "stdout",
     "output_type": "stream",
     "text": [
      "29/29 [==============================] - 0s 3ms/step\n",
      "Accuracy: 0.6166666666666667\n",
      "Precision: 0.0\n",
      "Recall: 0.0\n",
      "F1 score: 0.0\n",
      "Confusion Matrix:\n",
      " [[555   0]\n",
      " [345   0]]\n",
      "ROC AUC Score: 0.5\n"
     ]
    },
    {
     "name": "stderr",
     "output_type": "stream",
     "text": [
      "c:\\python38\\lib\\site-packages\\sklearn\\metrics\\_classification.py:1334: UndefinedMetricWarning: Precision is ill-defined and being set to 0.0 due to no predicted samples. Use `zero_division` parameter to control this behavior.\n",
      "  _warn_prf(average, modifier, msg_start, len(result))\n"
     ]
    },
    {
     "data": {
      "image/png": "[encoded data removed]",
      "text/plain": [
       "<Figure size 432x288 with 1 Axes>"
      ]
     },
     "metadata": {
      "needs_background": "light"
     },
     "output_type": "display_data"
    }
   ],
   "source": [
    "# predict the target values\n",
    "y_pred = model.predict(X)\n",
    "\n",
    "y_pred = np.round(y_pred)\n",
    "y_pred[np.isnan(y_pred)] = 0\n",
    "\n",
    "accuracy = accuracy_score(y, y_pred)\n",
    "precision = precision_score(y, y_pred)\n",
    "recall = recall_score(y, y_pred)\n",
    "f1 = f1_score(y, y_pred)\n",
    "confusion = confusion_matrix(y, y_pred)\n",
    "fpr, tpr, thresholds = roc_curve(y, y_pred)\n",
    "roc_auc = auc(fpr, tpr)\n",
    "\n",
    "# Print the evaluation metrics\n",
    "print(\"Accuracy:\", accuracy)\n",
    "print(\"Precision:\", precision)\n",
    "print(\"Recall:\", recall)\n",
    "print(\"F1 score:\", f1)\n",
    "print(\"Confusion Matrix:\\n\", confusion)\n",
    "print(\"ROC AUC Score:\", roc_auc)\n",
    "\n",
    "# Plot the ROC curve\n",
    "plt.plot(fpr, tpr, color='darkorange', lw=2, label='ROC curve (area = %0.2f)' % roc_auc)\n",
    "plt.plot([0, 1], [0, 1], color='navy', lw=2, linestyle='--')\n",
    "plt.xlim([0.0, 1.0])\n",
    "plt.ylim([0.0, 1.05])\n",
    "plt.xlabel('False Positive Rate')\n",
    "plt.ylabel('True Positive Rate')\n",
    "plt.title('Receiver Operating Characteristic Curve')\n",
    "plt.legend(loc=\"lower right\")\n",
    "plt.show()"
   ]
  },
  {
   "cell_type": "markdown",
   "metadata": {},
   "source": [
    "### --------------------------------------------------------------------------------------------------------------------------------------------------------------\n"
   ]
  },
  {
   "cell_type": "code",
   "execution_count": 8,
   "metadata": {},
   "outputs": [],
   "source": [
    "features = ['RMSF', 'lqt2_dist_max', 'revel_score', 'lqt2_dist_sequence', 'lqt2_dist_mean', 'lqt2_dist_observed']\n",
    "\n",
    "X = pd.DataFrame(df[features])\n",
    "y = pd.DataFrame(df['lqt2_patho'])"
   ]
  },
  {
   "cell_type": "code",
   "execution_count": 9,
   "metadata": {},
   "outputs": [
    {
     "name": "stdout",
     "output_type": "stream",
     "text": [
      "Epoch 1/50\n",
      "23/23 [==============================] - 2s 27ms/step - loss: nan - accuracy: 0.6292 - val_loss: nan - val_accuracy: 0.5722\n",
      "Epoch 2/50\n",
      "23/23 [==============================] - 0s 7ms/step - loss: nan - accuracy: 0.6278 - val_loss: nan - val_accuracy: 0.5722\n",
      "Epoch 3/50\n",
      "23/23 [==============================] - 0s 6ms/step - loss: nan - accuracy: 0.6278 - val_loss: nan - val_accuracy: 0.5722\n",
      "Epoch 4/50\n",
      "23/23 [==============================] - 0s 7ms/step - loss: nan - accuracy: 0.6278 - val_loss: nan - val_accuracy: 0.5722\n",
      "Epoch 5/50\n",
      "23/23 [==============================] - 0s 9ms/step - loss: nan - accuracy: 0.6278 - val_loss: nan - val_accuracy: 0.5722\n",
      "Epoch 6/50\n",
      "23/23 [==============================] - 0s 9ms/step - loss: nan - accuracy: 0.6278 - val_loss: nan - val_accuracy: 0.5722\n",
      "Epoch 7/50\n",
      "23/23 [==============================] - 0s 10ms/step - loss: nan - accuracy: 0.6278 - val_loss: nan - val_accuracy: 0.5722\n",
      "Epoch 8/50\n",
      "23/23 [==============================] - 0s 6ms/step - loss: nan - accuracy: 0.6278 - val_loss: nan - val_accuracy: 0.5722\n",
      "Epoch 9/50\n",
      "23/23 [==============================] - 0s 7ms/step - loss: nan - accuracy: 0.6278 - val_loss: nan - val_accuracy: 0.5722\n",
      "Epoch 10/50\n",
      "23/23 [==============================] - 0s 8ms/step - loss: nan - accuracy: 0.6278 - val_loss: nan - val_accuracy: 0.5722\n",
      "Epoch 11/50\n",
      "23/23 [==============================] - 0s 8ms/step - loss: nan - accuracy: 0.6278 - val_loss: nan - val_accuracy: 0.5722\n",
      "Epoch 12/50\n",
      "23/23 [==============================] - 0s 10ms/step - loss: nan - accuracy: 0.6278 - val_loss: nan - val_accuracy: 0.5722\n",
      "Epoch 13/50\n",
      "23/23 [==============================] - 0s 7ms/step - loss: nan - accuracy: 0.6278 - val_loss: nan - val_accuracy: 0.5722\n",
      "Epoch 14/50\n",
      "23/23 [==============================] - 0s 9ms/step - loss: nan - accuracy: 0.6278 - val_loss: nan - val_accuracy: 0.5722\n",
      "Epoch 15/50\n",
      "23/23 [==============================] - 0s 7ms/step - loss: nan - accuracy: 0.6278 - val_loss: nan - val_accuracy: 0.5722\n",
      "Epoch 16/50\n",
      "23/23 [==============================] - 0s 7ms/step - loss: nan - accuracy: 0.6278 - val_loss: nan - val_accuracy: 0.5722\n",
      "Epoch 17/50\n",
      "23/23 [==============================] - 0s 7ms/step - loss: nan - accuracy: 0.6278 - val_loss: nan - val_accuracy: 0.5722\n",
      "Epoch 18/50\n",
      "23/23 [==============================] - 0s 7ms/step - loss: nan - accuracy: 0.6278 - val_loss: nan - val_accuracy: 0.5722\n",
      "Epoch 19/50\n",
      "23/23 [==============================] - 0s 7ms/step - loss: nan - accuracy: 0.6278 - val_loss: nan - val_accuracy: 0.5722\n",
      "Epoch 20/50\n",
      "23/23 [==============================] - 0s 7ms/step - loss: nan - accuracy: 0.6278 - val_loss: nan - val_accuracy: 0.5722\n",
      "Epoch 21/50\n",
      "23/23 [==============================] - 0s 7ms/step - loss: nan - accuracy: 0.6278 - val_loss: nan - val_accuracy: 0.5722\n",
      "Epoch 22/50\n",
      "23/23 [==============================] - 0s 6ms/step - loss: nan - accuracy: 0.6278 - val_loss: nan - val_accuracy: 0.5722\n",
      "Epoch 23/50\n",
      "23/23 [==============================] - 0s 7ms/step - loss: nan - accuracy: 0.6278 - val_loss: nan - val_accuracy: 0.5722\n",
      "Epoch 24/50\n",
      "23/23 [==============================] - 0s 9ms/step - loss: nan - accuracy: 0.6278 - val_loss: nan - val_accuracy: 0.5722\n",
      "Epoch 25/50\n",
      "23/23 [==============================] - 0s 8ms/step - loss: nan - accuracy: 0.6278 - val_loss: nan - val_accuracy: 0.5722\n",
      "Epoch 26/50\n",
      "23/23 [==============================] - 0s 7ms/step - loss: nan - accuracy: 0.6278 - val_loss: nan - val_accuracy: 0.5722\n",
      "Epoch 27/50\n",
      "23/23 [==============================] - 0s 9ms/step - loss: nan - accuracy: 0.6278 - val_loss: nan - val_accuracy: 0.5722\n",
      "Epoch 28/50\n",
      "23/23 [==============================] - 0s 13ms/step - loss: nan - accuracy: 0.6278 - val_loss: nan - val_accuracy: 0.5722\n",
      "Epoch 29/50\n",
      "23/23 [==============================] - 0s 8ms/step - loss: nan - accuracy: 0.6278 - val_loss: nan - val_accuracy: 0.5722\n",
      "Epoch 30/50\n",
      "23/23 [==============================] - 0s 7ms/step - loss: nan - accuracy: 0.6278 - val_loss: nan - val_accuracy: 0.5722\n",
      "Epoch 31/50\n",
      "23/23 [==============================] - 0s 10ms/step - loss: nan - accuracy: 0.6278 - val_loss: nan - val_accuracy: 0.5722\n",
      "Epoch 32/50\n",
      "23/23 [==============================] - 0s 10ms/step - loss: nan - accuracy: 0.6278 - val_loss: nan - val_accuracy: 0.5722\n",
      "Epoch 33/50\n",
      "23/23 [==============================] - 0s 8ms/step - loss: nan - accuracy: 0.6278 - val_loss: nan - val_accuracy: 0.5722\n",
      "Epoch 34/50\n",
      "23/23 [==============================] - 0s 7ms/step - loss: nan - accuracy: 0.6278 - val_loss: nan - val_accuracy: 0.5722\n",
      "Epoch 35/50\n",
      "23/23 [==============================] - 0s 7ms/step - loss: nan - accuracy: 0.6278 - val_loss: nan - val_accuracy: 0.5722\n",
      "Epoch 36/50\n",
      "23/23 [==============================] - 0s 7ms/step - loss: nan - accuracy: 0.6278 - val_loss: nan - val_accuracy: 0.5722\n",
      "Epoch 37/50\n",
      "23/23 [==============================] - 0s 7ms/step - loss: nan - accuracy: 0.6278 - val_loss: nan - val_accuracy: 0.5722\n",
      "Epoch 38/50\n",
      "23/23 [==============================] - 0s 7ms/step - loss: nan - accuracy: 0.6278 - val_loss: nan - val_accuracy: 0.5722\n",
      "Epoch 39/50\n",
      "23/23 [==============================] - 0s 8ms/step - loss: nan - accuracy: 0.6278 - val_loss: nan - val_accuracy: 0.5722\n",
      "Epoch 40/50\n",
      "23/23 [==============================] - 0s 7ms/step - loss: nan - accuracy: 0.6278 - val_loss: nan - val_accuracy: 0.5722\n",
      "Epoch 41/50\n",
      "23/23 [==============================] - 0s 7ms/step - loss: nan - accuracy: 0.6278 - val_loss: nan - val_accuracy: 0.5722\n",
      "Epoch 42/50\n",
      "23/23 [==============================] - 0s 8ms/step - loss: nan - accuracy: 0.6278 - val_loss: nan - val_accuracy: 0.5722\n",
      "Epoch 43/50\n",
      "23/23 [==============================] - 0s 8ms/step - loss: nan - accuracy: 0.6278 - val_loss: nan - val_accuracy: 0.5722\n",
      "Epoch 44/50\n",
      "23/23 [==============================] - 0s 7ms/step - loss: nan - accuracy: 0.6278 - val_loss: nan - val_accuracy: 0.5722\n",
      "Epoch 45/50\n",
      "23/23 [==============================] - 0s 9ms/step - loss: nan - accuracy: 0.6278 - val_loss: nan - val_accuracy: 0.5722\n",
      "Epoch 46/50\n",
      "23/23 [==============================] - 0s 10ms/step - loss: nan - accuracy: 0.6278 - val_loss: nan - val_accuracy: 0.5722\n",
      "Epoch 47/50\n",
      "23/23 [==============================] - 0s 10ms/step - loss: nan - accuracy: 0.6278 - val_loss: nan - val_accuracy: 0.5722\n",
      "Epoch 48/50\n",
      "23/23 [==============================] - 0s 10ms/step - loss: nan - accuracy: 0.6278 - val_loss: nan - val_accuracy: 0.5722\n",
      "Epoch 49/50\n",
      "23/23 [==============================] - 0s 9ms/step - loss: nan - accuracy: 0.6278 - val_loss: nan - val_accuracy: 0.5722\n",
      "Epoch 50/50\n",
      "23/23 [==============================] - 0s 8ms/step - loss: nan - accuracy: 0.6278 - val_loss: nan - val_accuracy: 0.5722\n"
     ]
    },
    {
     "data": {
      "text/plain": [
       "<keras.callbacks.History at 0x1a47ca73ac0>"
      ]
     },
     "execution_count": 9,
     "metadata": {},
     "output_type": "execute_result"
    }
   ],
   "source": [
    "model = keras.Sequential([\n",
    "    layers.Dense(16, activation='relu', input_shape=(len(features),)),\n",
    "    layers.Dense(8, activation='relu'),\n",
    "    layers.Dense(1, activation='sigmoid')\n",
    "])\n",
    "\n",
    "# Compile the model\n",
    "model.compile(optimizer='adam', loss='mse', metrics=['accuracy'])\n",
    "\n",
    "# Train the model\n",
    "model.fit(X, y, epochs=50, batch_size=32, validation_split=0.2)"
   ]
  },
  {
   "cell_type": "code",
   "execution_count": 10,
   "metadata": {},
   "outputs": [
    {
     "name": "stdout",
     "output_type": "stream",
     "text": [
      "29/29 [==============================] - 0s 2ms/step\n",
      "Accuracy: 0.6166666666666667\n",
      "Precision: 0.0\n",
      "Recall: 0.0\n",
      "F1 score: 0.0\n",
      "Confusion Matrix:\n",
      " [[555   0]\n",
      " [345   0]]\n",
      "ROC AUC Score: 0.5\n"
     ]
    },
    {
     "name": "stderr",
     "output_type": "stream",
     "text": [
      "c:\\python38\\lib\\site-packages\\sklearn\\metrics\\_classification.py:1334: UndefinedMetricWarning: Precision is ill-defined and being set to 0.0 due to no predicted samples. Use `zero_division` parameter to control this behavior.\n",
      "  _warn_prf(average, modifier, msg_start, len(result))\n"
     ]
    },
    {
     "data": {
      "image/png": "[encoded data removed]",
      "text/plain": [
       "<Figure size 432x288 with 1 Axes>"
      ]
     },
     "metadata": {
      "needs_background": "light"
     },
     "output_type": "display_data"
    }
   ],
   "source": [
    "# predict the target values\n",
    "y_pred = model.predict(X)\n",
    "\n",
    "y_pred = np.round(y_pred)\n",
    "y_pred[np.isnan(y_pred)] = 0\n",
    "\n",
    "accuracy = accuracy_score(y, y_pred)\n",
    "precision = precision_score(y, y_pred)\n",
    "recall = recall_score(y, y_pred)\n",
    "f1 = f1_score(y, y_pred)\n",
    "confusion = confusion_matrix(y, y_pred)\n",
    "fpr, tpr, thresholds = roc_curve(y, y_pred)\n",
    "roc_auc = auc(fpr, tpr)\n",
    "\n",
    "# Print the evaluation metrics\n",
    "print(\"Accuracy:\", accuracy)\n",
    "print(\"Precision:\", precision)\n",
    "print(\"Recall:\", recall)\n",
    "print(\"F1 score:\", f1)\n",
    "print(\"Confusion Matrix:\\n\", confusion)\n",
    "print(\"ROC AUC Score:\", roc_auc)\n",
    "\n",
    "# Plot the ROC curve\n",
    "plt.plot(fpr, tpr, color='darkorange', lw=2, label='ROC curve (area = %0.2f)' % roc_auc)\n",
    "plt.plot([0, 1], [0, 1], color='navy', lw=2, linestyle='--')\n",
    "plt.xlim([0.0, 1.0])\n",
    "plt.ylim([0.0, 1.05])\n",
    "plt.xlabel('False Positive Rate')\n",
    "plt.ylabel('True Positive Rate')\n",
    "plt.title('Receiver Operating Characteristic Curve')\n",
    "plt.legend(loc=\"lower right\")\n",
    "plt.show()"
   ]
  },
  {
   "cell_type": "code",
   "execution_count": null,
   "metadata": {},
   "outputs": [],
   "source": []
  },
  {
   "cell_type": "code",
   "execution_count": null,
   "metadata": {},
   "outputs": [],
   "source": []
  },
  {
   "cell_type": "code",
   "execution_count": null,
   "metadata": {},
   "outputs": [],
   "source": []
  },
  {
   "cell_type": "markdown",
   "metadata": {},
   "source": [
    "### --------------------------------------------------------------------------------------------------------------------------------------------------------------\n"
   ]
  }
 ],
 "metadata": {
  "kernelspec": {
   "display_name": "Python 3 (ipykernel)",
   "language": "python",
   "name": "python3"
  },
  "language_info": {
   "codemirror_mode": {
    "name": "ipython",
    "version": 3
   },
   "file_extension": ".py",
   "mimetype": "text/x-python",
   "name": "python",
   "nbconvert_exporter": "python",
   "pygments_lexer": "ipython3",
   "version": "3.8.2"
  },
  "vscode": {
   "interpreter": {
    "hash": "40d3a090f54c6569ab1632332b64b2c03c39dcf918b08424e98f38b5ae0af88f"
   }
  }
 },
 "nbformat": 4,
 "nbformat_minor": 2
}
